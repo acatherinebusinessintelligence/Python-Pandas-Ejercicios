{
  "nbformat": 4,
  "nbformat_minor": 0,
  "metadata": {
    "colab": {
      "name": "Conociendo_mi_proveedor.ipynb",
      "provenance": [],
      "collapsed_sections": [],
      "include_colab_link": true
    },
    "kernelspec": {
      "name": "python3",
      "display_name": "Python 3"
    },
    "language_info": {
      "name": "python"
    }
  },
  "cells": [
    {
      "cell_type": "markdown",
      "metadata": {
        "id": "view-in-github",
        "colab_type": "text"
      },
      "source": [
        "<a href=\"https://colab.research.google.com/github/acatherinebusinessintelligence/Python-Pandas-Ejercicios/blob/master/Conociendo_mi_proveedor.ipynb\" target=\"_parent\"><img src=\"https://colab.research.google.com/assets/colab-badge.svg\" alt=\"Open In Colab\"/></a>"
      ]
    },
    {
      "cell_type": "code",
      "execution_count": 2,
      "metadata": {
        "id": "0mMtOCgIYznn"
      },
      "outputs": [],
      "source": [
        "#pip install numpy\n",
        "import numpy as np\n"
      ]
    },
    {
      "cell_type": "markdown",
      "source": [
        "#**Numpy**\n",
        "NumPy es el paquete fundamental para la computación científica en Python.\n",
        "Es una biblioteca de Python que proporciona:\n",
        "\n",
        "---\n",
        "\n",
        "\n",
        "*   Un objeto de matriz multidimensional\n",
        "*   Varios objetos derivados(como matrices y matrices enmascaradas)\n",
        "* rutinas para operaciones rápidas en matrices(matemática, lógica, de formas, clasificación, selección, E/S)\n",
        "* transformadas discretas de Fourier\n",
        "* álgebra lineal básica\n",
        "*simulación aleatoria y mucho más\n",
        "---\n",
        "\n",
        "https://numpy.org/\n",
        "\n",
        "#**Matrices**\n",
        "\n",
        "Este es un ejemplo de una matriz de 3X3, que esta representando el precio de de la ruta por ciudad y proveedor.\n",
        "\n",
        "<table class=\"default\">\n",
        "  <tr>\n",
        "    <th>Proveedor/Ciudad</th>\n",
        "    <th>C1</th>\n",
        "    <th>C2</th>\n",
        "    <th>C3</th>\n",
        "  </tr>\n",
        "  <tr>\n",
        "    <th>P1</td>\n",
        "    <td>11.200</td>\n",
        "    <td>11.700</td>\n",
        "    <td>11.800</td>\n",
        "  </tr>\n",
        "  <tr>\n",
        "    <th>P2</th>\n",
        "    <td>10.500</td>\n",
        "    <td>12.000</td>\n",
        "    <td>8.500</td>\n",
        "  </tr>\n",
        "  <tr>\n",
        "    <th>P3</th>\n",
        "    <td>11.000</td>\n",
        "    <td>11.500</td>\n",
        "    <td>12.000</td>\n",
        "  </tr>\n",
        "</table>\n",
        "\n",
        "Tenemos una matriz de 2X2, que esta representanda la distribución planificada a una cadena de almacenes a cada una de las ciudades, especificando la cantidad de viajes a realizar por mes para las ciudades C1,C2,C3.\n",
        "\n",
        "<table class=\"default\">\n",
        "  <tr>\n",
        "    <th>ViajesXmes/Contrato</th>\n",
        "    <th>Contrato 1</th>\n",
        "    <th>Contrato 2</th>\n",
        "    \n",
        "  </tr>\n",
        "  <tr>\n",
        "    <th>C1</td>\n",
        "    <td>30</td>\n",
        "    <td>20</td>\n",
        "    \n",
        "  </tr>\n",
        "  <tr>\n",
        "    <th>C2</th>\n",
        "    <td>15</td>\n",
        "    <td>12</td>\n",
        "   </tr>\n",
        "  <tr>\n",
        "    <th>C3</th>\n",
        "    <td>23</td>\n",
        "    <td>15</td>\n",
        "  </tr>\n",
        "</table>\n",
        "\n",
        "Para entender la utilidad de *Numpy*, vamos a realizar el calculo para encontrar con que proveedor se debe programar las rutas, sabiendo que los proveedores cuenta con las garantías necesarias para el suministro.\n",
        "\n"
      ],
      "metadata": {
        "id": "nulqiyNGblnM"
      }
    },
    {
      "cell_type": "markdown",
      "source": [
        "## **Ingresando Datos**\n",
        "Ahora vamos a ingresar nuestros datos creamos nuestra primera matriz de 3X3\n",
        "\n",
        "Precio paquete de de la ruta por ciudad y proveedor\n",
        "\n",
        "$\n",
        "\\left(\n",
        "\\begin{array}{ll}\n",
        "11200&11700&11800 \\\\\n",
        "10500&12000&8500 \\\\\n",
        "11000&11500&12000\n",
        "\\end{array}\n",
        "\\right)\n",
        "$\n",
        "\n",
        "\n",
        "Distribución de los contratos X ciudad\n",
        "\n",
        "$\n",
        "\\left(\n",
        "\\begin{array}{ll}\n",
        "30&20 \\\\\n",
        "15&12 \\\\\n",
        "23&15\n",
        "\\end{array}\n",
        "\\right)\n",
        "$\n",
        "\n",
        "\n",
        "Para ingresar datos en una matriz utilizamos **numpy.array**\n",
        "\n",
        "Donde vamos a ingresar varias lista , que serian los vectores de las matrices\n",
        "\n",
        "**np.array(lista)**\n",
        "\n",
        "Crea un array a partir de la lista o tupla lista y devuelve una referencia a él. El número de dimensiones del array dependerá de las listas o tuplas anidadas en lista:\n",
        "\n",
        "* Para una lista de valores se crea un array de una dimensión, también conocido como vector.\n",
        "* Para una lista de listas de valores se crea un array de dos dimensiones, también conocido como matriz.\n",
        "* Para una lista de listas de listas de valores se crea un array de tres dimensiones, también conocido como cubo.\n",
        "*No hay límite en el número de dimensiones del array más allá de la memoria disponible en el sistema.\n",
        "\n"
      ],
      "metadata": {
        "id": "Ho0yI0Qm9BNJ"
      }
    },
    {
      "cell_type": "code",
      "source": [
        "#Proveedor=[Precio Ciudad 1, Precio Ciudad 2, Precio Ciudad 3] \n",
        "P1=[11200,11700,11800]\n",
        "P2=[10500,12000,8500]\n",
        "P3=[11000,11500,12000]"
      ],
      "metadata": {
        "id": "wanoFnnk89Jp"
      },
      "execution_count": 6,
      "outputs": []
    },
    {
      "cell_type": "markdown",
      "source": [
        ""
      ],
      "metadata": {
        "id": "VbjU3OiVpElX"
      }
    },
    {
      "cell_type": "code",
      "source": [
        "precios_proveedores=np.array([P1,P2,P3])"
      ],
      "metadata": {
        "id": "GOVTAc0BDEGt"
      },
      "execution_count": 7,
      "outputs": []
    },
    {
      "cell_type": "code",
      "source": [
        "#Vamos a crear matriz de los viajes por ciudad por contrato a realizar\n",
        "# Viajes X Ciudad = [no. viajes contrato1,no. viajes contrato2] \n",
        "C1=[30,20]\n",
        "C2=[15,12]\n",
        "C3=[23,15]\n",
        "viajesXciudad=np.array([C1,C2,C3])\n",
        "print(precios_proveedores)\n",
        "print(viajesXciudad)"
      ],
      "metadata": {
        "colab": {
          "base_uri": "https://localhost:8080/"
        },
        "id": "MvUOfXbSDQpZ",
        "outputId": "265e34e0-55e3-4961-f9a7-e40134efc565"
      },
      "execution_count": 12,
      "outputs": [
        {
          "output_type": "stream",
          "name": "stdout",
          "text": [
            "[[11200 11700 11800]\n",
            " [10500 12000  8500]\n",
            " [11000 11500 12000]]\n",
            "[[30 20]\n",
            " [15 12]\n",
            " [23 15]]\n"
          ]
        }
      ]
    },
    {
      "cell_type": "markdown",
      "source": [
        "Ya hemos ingresado los datos en las matrices a traves de listas, procedemos a realizar el calculo para encontrar con que proveedor se debe programar las rutas, sabiendo que los proveedores cuenta con las garantías necesarias para el suministro, para ello multiplicamos las matrices con la funcion numpy.dot(p,q)"
      ],
      "metadata": {
        "id": "Azjy_ggUCMIE"
      }
    },
    {
      "cell_type": "code",
      "source": [
        "donde_comprar = np.dot(precios_proveedores, viajesXciudad)\n",
        "print(donde_comprar)"
      ],
      "metadata": {
        "colab": {
          "base_uri": "https://localhost:8080/"
        },
        "id": "hbQgR76XE_bY",
        "outputId": "3d3c8e45-28c8-441e-e897-9f60ebb756c0"
      },
      "execution_count": 14,
      "outputs": [
        {
          "output_type": "stream",
          "name": "stdout",
          "text": [
            "[[782900 541400]\n",
            " [690500 481500]\n",
            " [778500 538000]]\n"
          ]
        }
      ]
    },
    {
      "cell_type": "code",
      "source": [
        "min_rest = np.amin(donde_comprar, 0)\n",
        "print(min_rest)"
      ],
      "metadata": {
        "colab": {
          "base_uri": "https://localhost:8080/"
        },
        "outputId": "4a9b7609-f055-4d22-8d68-ac152249e92b",
        "id": "yq7sBEu5IjI0"
      },
      "execution_count": 15,
      "outputs": [
        {
          "output_type": "stream",
          "name": "stdout",
          "text": [
            "[690500 481500]\n"
          ]
        }
      ]
    },
    {
      "cell_type": "markdown",
      "source": [
        "<table class=\"default\">\n",
        "  <tr>\n",
        "    <th>Proveedor/Contrato</th>\n",
        "    <th>Contrato 1</th>\n",
        "    <th>Contrato 2</th>\n",
        "    \n",
        "  </tr>\n",
        "  <tr>\n",
        "    <th>P1</td>\n",
        "    <td>782.900</td>\n",
        "    <td>541.400</td>\n",
        "    \n",
        "  </tr>\n",
        "  <tr>\n",
        "    <th>P2</th>\n",
        "    <td>690.500</td>\n",
        "    <td>481.500</td>\n",
        "   </tr>\n",
        "  <tr>\n",
        "    <th>P3</th>\n",
        "    <td>778500</td>\n",
        "    <td>538.000</td>\n",
        "  </tr>\n",
        "</table>\n",
        "\n",
        "Conclusión: El Proveedor P2 es el más conveniente para el manejo de los dos contratos de distribución, ya que cumple con las condiciones económicas.\n",
        "\n",
        "Nota: este es un analisis solo económico, no encierra las variables que interceden en la negoociación, las cuales encierran, tiempos, riesgos, formas de pago, entre otros."
      ],
      "metadata": {
        "id": "7s50W22oF3nL"
      }
    },
    {
      "cell_type": "code",
      "source": [
        "import matplotlib.pyplot as plt \n",
        "fig, (x1,x2) = plt.subplots(nrows=1, ncols=2) \n",
        "x = np.arange(2) \n",
        "P1 = donde_comprar[0]\n",
        "P2 = donde_comprar[1]\n",
        "y3 = donde_comprar[2]\n",
        "width = 0.2\n",
        "  \n",
        "plt.bar(x-0.2, P1, width, color='blue') \n",
        "plt.bar(x, P2, width, color='orange') \n",
        "plt.bar(x+0.2, P3, width, color='green') \n",
        "plt.xticks(x, ['Contrato 1', 'Contrato 2']) \n",
        "plt.xlabel(\"Contrato\") \n",
        "plt.ylabel(\"Proveedores\") \n",
        "plt.legend([\"Proveedor 1\", \"Proveedor 2\", \"Proveedor 3\"]) \n",
        "plt.show() \n"
      ],
      "metadata": {
        "colab": {
          "base_uri": "https://localhost:8080/",
          "height": 289
        },
        "id": "rOHZOxFibdBM",
        "outputId": "ebd65ce7-1ac8-4ec6-f0fa-d985e8840ae3"
      },
      "execution_count": 65,
      "outputs": [
        {
          "output_type": "display_data",
          "data": {
            "text/plain": [
              "<Figure size 432x288 with 2 Axes>"
            ],
            "image/png": "[encoded data removed]"
          },
          "metadata": {}
        }
      ]
    },
    {
      "cell_type": "markdown",
      "source": [
        "<table class=\"default\">\n",
        "  <tr>\n",
        "    <th>Proveedor/Contrato</th>\n",
        "    <th>Contrato 1</th>\n",
        "    <th>Contrato 2</th>\n",
        "    \n",
        "  </tr>\n",
        "  <tr>\n",
        "    <th>P1</td>\n",
        "    <td>782.900</td>\n",
        "    <td>541.400</td>\n",
        "    \n",
        "  </tr>\n",
        "  <tr>\n",
        "    <th>P2</th>\n",
        "    <td>690.500</td>\n",
        "    <td>481.500</td>\n",
        "   </tr>\n",
        "  <tr>\n",
        "    <th>P3</th>\n",
        "    <td>778500</td>\n",
        "    <td>538.000</td>\n",
        "  </tr>\n",
        "</table>"
      ],
      "metadata": {
        "id": "4eUo1F_tchr-"
      }
    }
  ]
}